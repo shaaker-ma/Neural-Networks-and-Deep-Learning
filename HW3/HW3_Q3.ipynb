{
 "cells": [
  {
   "cell_type": "markdown",
   "id": "384b9a33",
   "metadata": {},
   "source": [
    "# <font color='black'><center><center></font> \n",
    "![title](img/All.png) \n",
    "# <font color='white'><center><center></font> \n",
    "# <font><center>Neural Networks & Deep Learning<center></font>\n",
    "# <font ><center>HW3: Q3<center></font>\n",
    "## <center>Teacher: Dr. Kalhor<center>\n",
    "### <center>Mohammadali Shakerdargah <center>\n",
    "### <center>810196487<center>"
   ]
  },
  {
   "cell_type": "code",
   "execution_count": 1,
   "id": "ae89f1f5",
   "metadata": {},
   "outputs": [],
   "source": [
    "import numpy as np\n",
    "import matplotlib.pyplot as plt\n",
    "import random\n",
    "import copy\n",
    "import statistics"
   ]
  },
  {
   "cell_type": "code",
   "execution_count": 35,
   "id": "3ed9b292",
   "metadata": {},
   "outputs": [],
   "source": [
    "class HopfieldNet:\n",
    "    def __init__(self, _S, _T):\n",
    "        self.S = _S\n",
    "        self.T = _T\n",
    "        self.W = np.zeros((len(_S[1]), len(_T[1])))\n",
    "        \n",
    "    def train(self):\n",
    "        for trainSample in range(len(self.S)):\n",
    "            x = self.S[trainSample]\n",
    "            y = self.T[trainSample]\n",
    "            for i in range(len(x)):\n",
    "                for j in range(len(y)):\n",
    "                    self.W[i][j] = self.W[i][j] + x[i]*y[j]\n",
    "            for i in range(len(self.W)):\n",
    "                for j in range(len(self.W[i])):\n",
    "                    if(i==j):\n",
    "                        self.W[i][j] = 0\n",
    "                        \n",
    "    def showResult(self, X):\n",
    "        y_t = np.dot(X,self.W)\n",
    "        for i in range(len(y_t)): #sign\n",
    "            if(y_t[i] >= 0):\n",
    "                y_t[i] = 1\n",
    "            else:\n",
    "                y_t[i] = -1\n",
    "        plt.figure()\n",
    "        plt.imshow(y_t.reshape((8,8)), cmap='binary')\n",
    "        \n",
    "    def showResultWithNoise(self, _S_space, _T_space, n): # n% of values with noise\n",
    "        T_space = copy.deepcopy(_T_space)\n",
    "        rightAns = 0\n",
    "        S_space = copy.deepcopy(_S_space)\n",
    "        for sample in range(len(S_space)):\n",
    "            toNoise = int(len(S_space[0])*(n/100))\n",
    "            randomIndexes = random.sample(range(1, len(S_space[0])-1), toNoise)\n",
    "            for index in randomIndexes:\n",
    "                if(S_space[sample][index] == 1):\n",
    "                    S_space[sample][index] = -1\n",
    "                else:\n",
    "                    S_space[sample][index] = 1\n",
    "        convergeTest = False\n",
    "        count = 0\n",
    "        while(convergeTest != True):       \n",
    "            Y_list = []\n",
    "            for sample in range(len(S_space)):\n",
    "                y_sample = copy.deepcopy(S_space[sample])\n",
    "                randomIndexes = random.sample(range(0, 64), 64)\n",
    "                for index in randomIndexes:\n",
    "                    y_sample_i =  S_space[sample][index]\n",
    "                    for i in range(len(S_space[sample])):\n",
    "                        y_sample_i += y_sample[i]*self.W[i][index]\n",
    "                    if(y_sample_i > 0):\n",
    "                        y_sample[index] = 1\n",
    "                    elif(y_sample_i < 0):\n",
    "                        y_sample[index] = -1\n",
    "                    else:\n",
    "                        y_sample[index] = y_sample_i\n",
    "                Y_list.append(y_sample)\n",
    "            Y_array = np.array(Y_list)\n",
    "            if(np.array_equal(Y_array, T_space)): \n",
    "                convergeTest = True\n",
    "            count +=1\n",
    "        print(\"S space, desired:\\n\",T_space)\n",
    "        print(\"\\nFinal Output of network\")\n",
    "        print(Y_array)\n",
    "        if(convergeTest == True):\n",
    "            Res = \"Converged to desired output\"\n",
    "        return (Res)"
   ]
  },
  {
   "cell_type": "code",
   "execution_count": 36,
   "id": "f30ad95d",
   "metadata": {},
   "outputs": [],
   "source": [
    "zero_s = np.array( [[1, 1, 1, 1, 1, 1, 1, 1],\n",
    "                    [1, 1, 1, 1, 1, 1, 1, 1],\n",
    "                    [1, 1, -1, -1, -1, -1, 1, 1],\n",
    "                    [1, 1, -1, -1, -1, -1, 1, 1],\n",
    "                    [1, 1, -1, -1, -1, -1, 1, 1],\n",
    "                    [1, 1, -1, -1, -1, -1, 1, 1],\n",
    "                    [1, 1, 1, 1, 1, 1, 1, 1],\n",
    "                    [1, 1, 1, 1, 1, 1, 1, 1]])\n",
    "\n",
    "one_s = np.array( [[-1, -1, 1, 1, 1, -1, -1, -1],\n",
    "                   [-1, -1, 1, 1, 1, -1, -1, -1],\n",
    "                   [-1, -1, -1, 1, 1, -1, -1, -1],\n",
    "                   [-1, -1, -1, 1, 1, -1, -1, -1],\n",
    "                   [-1, -1, -1, 1, 1, -1, -1, -1],\n",
    "                   [-1, -1, -1, 1, 1, -1, -1, -1],\n",
    "                   [-1, -1, -1, 1, 1, -1, -1, -1],\n",
    "                   [-1, -1, -1, 1, 1, -1, -1, -1]])\n",
    "\n",
    "zero_s_reshaped = zero_s.reshape((zero_s.shape[0]*zero_s.shape[1]))\n",
    "one_s_reshaped = one_s.reshape((one_s.shape[0]*one_s.shape[1]))\n",
    "\n",
    "S = np.array([zero_s_reshaped, one_s_reshaped])\n",
    "hopNN = HopfieldNet(copy.deepcopy(S), copy.deepcopy(S))\n",
    "hopNN.train()"
   ]
  },
  {
   "cell_type": "markdown",
   "id": "92cf3d94",
   "metadata": {},
   "source": [
    "# Part A"
   ]
  },
  {
   "cell_type": "code",
   "execution_count": 37,
   "id": "ff388a7b",
   "metadata": {},
   "outputs": [
    {
     "data": {
      "image/png": "[encoded data removed]",
      "text/plain": [
       "<Figure size 432x288 with 1 Axes>"
      ]
     },
     "metadata": {
      "needs_background": "light"
     },
     "output_type": "display_data"
    },
    {
     "data": {
      "image/png": "[encoded data removed]",
      "text/plain": [
       "<Figure size 432x288 with 1 Axes>"
      ]
     },
     "metadata": {
      "needs_background": "light"
     },
     "output_type": "display_data"
    }
   ],
   "source": [
    "hopNN.showResult(zero_s_reshaped)\n",
    "hopNN.showResult(one_s_reshaped)"
   ]
  },
  {
   "cell_type": "markdown",
   "id": "da380539",
   "metadata": {},
   "source": [
    "# Part B"
   ]
  },
  {
   "cell_type": "markdown",
   "id": "35d4f660",
   "metadata": {},
   "source": [
    "## Results of Inputs with 30% Noise "
   ]
  },
  {
   "cell_type": "code",
   "execution_count": 38,
   "id": "96b70566",
   "metadata": {},
   "outputs": [
    {
     "name": "stdout",
     "output_type": "stream",
     "text": [
      "S space, desired:\n",
      " [[ 1  1  1  1  1  1  1  1  1  1  1  1  1  1  1  1  1  1 -1 -1 -1 -1  1  1\n",
      "   1  1 -1 -1 -1 -1  1  1  1  1 -1 -1 -1 -1  1  1  1  1 -1 -1 -1 -1  1  1\n",
      "   1  1  1  1  1  1  1  1  1  1  1  1  1  1  1  1]\n",
      " [-1 -1  1  1  1 -1 -1 -1 -1 -1  1  1  1 -1 -1 -1 -1 -1 -1  1  1 -1 -1 -1\n",
      "  -1 -1 -1  1  1 -1 -1 -1 -1 -1 -1  1  1 -1 -1 -1 -1 -1 -1  1  1 -1 -1 -1\n",
      "  -1 -1 -1  1  1 -1 -1 -1 -1 -1 -1  1  1 -1 -1 -1]]\n",
      "\n",
      "Final Output of network\n",
      "[[ 1  1  1  1  1  1  1  1  1  1  1  1  1  1  1  1  1  1 -1 -1 -1 -1  1  1\n",
      "   1  1 -1 -1 -1 -1  1  1  1  1 -1 -1 -1 -1  1  1  1  1 -1 -1 -1 -1  1  1\n",
      "   1  1  1  1  1  1  1  1  1  1  1  1  1  1  1  1]\n",
      " [-1 -1  1  1  1 -1 -1 -1 -1 -1  1  1  1 -1 -1 -1 -1 -1 -1  1  1 -1 -1 -1\n",
      "  -1 -1 -1  1  1 -1 -1 -1 -1 -1 -1  1  1 -1 -1 -1 -1 -1 -1  1  1 -1 -1 -1\n",
      "  -1 -1 -1  1  1 -1 -1 -1 -1 -1 -1  1  1 -1 -1 -1]]\n",
      "\n",
      " Converged to desired output\n"
     ]
    }
   ],
   "source": [
    "n = 30\n",
    "S = np.array([zero_s_reshaped, one_s_reshaped])  \n",
    "res = hopNN.showResultWithNoise(S, S, n)\n",
    "print('\\n',res)"
   ]
  },
  {
   "cell_type": "markdown",
   "id": "8ff97bfb",
   "metadata": {},
   "source": [
    "# Part C"
   ]
  },
  {
   "cell_type": "code",
   "execution_count": 43,
   "id": "783aa023",
   "metadata": {},
   "outputs": [
    {
     "name": "stdout",
     "output_type": "stream",
     "text": [
      "46\n"
     ]
    }
   ],
   "source": [
    "hamming_dist = 0\n",
    "for i in range(len(zero_s)):\n",
    "    for j in range(len(zero_s[0])):\n",
    "        if(zero_s[i][j] != one_s[i][j]):\n",
    "            hamming_dist += 1\n",
    "print(hamming_dist)"
   ]
  }
 ],
 "metadata": {
  "kernelspec": {
   "display_name": "Python 3",
   "language": "python",
   "name": "python3"
  },
  "language_info": {
   "codemirror_mode": {
    "name": "ipython",
    "version": 3
   },
   "file_extension": ".py",
   "mimetype": "text/x-python",
   "name": "python",
   "nbconvert_exporter": "python",
   "pygments_lexer": "ipython3",
   "version": "3.8.8"
  }
 },
 "nbformat": 4,
 "nbformat_minor": 5
}
