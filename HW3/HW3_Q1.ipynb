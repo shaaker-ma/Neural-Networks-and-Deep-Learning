{
 "cells": [
  {
   "cell_type": "markdown",
   "id": "384b9a33",
   "metadata": {},
   "source": [
    "# <font color='black'><center><center></font> \n",
    "![title](img/All.png) \n",
    "# <font color='white'><center><center></font> \n",
    "# <font><center>Neural Networks & Deep Learning<center></font>\n",
    "# <font ><center>HW3: Q1<center></font>\n",
    "## <center>Teacher: Dr. Kalhor<center>\n",
    "### <center>Mohammadali Shakerdargah <center>\n",
    "### <center>810196487<center>"
   ]
  },
  {
   "cell_type": "code",
   "execution_count": 83,
   "id": "ae89f1f5",
   "metadata": {},
   "outputs": [],
   "source": [
    "import numpy as np\n",
    "import matplotlib.pyplot as plt\n",
    "import random\n",
    "import copy"
   ]
  },
  {
   "cell_type": "code",
   "execution_count": 115,
   "id": "3ed9b292",
   "metadata": {},
   "outputs": [],
   "source": [
    "class Hebbian:\n",
    "    def __init__(self, _S, _T):\n",
    "        self.S = _S\n",
    "        self.T = _T\n",
    "        self.W = np.zeros((len(_S[1]), len(_T[1])))\n",
    "        \n",
    "    def train(self):\n",
    "        for trainSample in range(len(self.S)):\n",
    "            x = self.S[trainSample]\n",
    "            y = self.T[trainSample]\n",
    "            for i in range(len(x)):\n",
    "                for j in range(len(y)):\n",
    "                    self.W[i][j] = self.W[i][j] + x[i]*y[j]\n",
    "                    \n",
    "    def showResult(self, X):\n",
    "        y_t = np.dot(X,self.W)\n",
    "        for i in range(len(y_t)): #sign\n",
    "            if(y_t[i] >= 0):\n",
    "                y_t[i] = 1\n",
    "            else:\n",
    "                y_t[i] = -1\n",
    "        plt.figure()\n",
    "        plt.imshow(y_t.reshape((5, 3)), cmap='binary')\n",
    "        \n",
    "    def showResultWithNoise(self, _S_space, _T_space, n): # n% of values with noise\n",
    "        T_space = copy.deepcopy(_T_space)\n",
    "        rightAns = 0\n",
    "        for i in range(1000):\n",
    "            S_space = copy.deepcopy(_S_space)\n",
    "            for sample in range(len(S_space)):\n",
    "                toNoise = int(len(S_space[0])*(n/100))\n",
    "                randomIndexes = random.sample(range(1, len(S_space[0])-1), toNoise)\n",
    "                for index in randomIndexes:\n",
    "                    if(S_space[sample][index] == 1):\n",
    "                        S_space[sample][index] = -1\n",
    "                    else:\n",
    "                        S_space[sample][index] = 1\n",
    "            Y_t_list = []\n",
    "            for sample in range(len(S_space)):\n",
    "                y_t_sample = np.dot(S_space[sample] ,self.W)\n",
    "                for i in range(len(y_t_sample)): #sign\n",
    "                    if(y_t_sample[i] >= 0):\n",
    "                        y_t_sample[i] = 1\n",
    "                    else:\n",
    "                        y_t_sample[i] = -1\n",
    "                Y_t_list.append(y_t_sample)\n",
    "            Y_t_array = np.array(Y_t_list)\n",
    "            if(np.array_equal(Y_t_array, T_space)): \n",
    "                rightAns += 1\n",
    "        return ((rightAns/1000)*100)\n",
    "        \n",
    "    def showResultWithLost(self, _S_space, _T_space, n): # n% of values with noise\n",
    "        T_space = copy.deepcopy(_T_space)\n",
    "        rightAns = 0\n",
    "        for i in range(1000):\n",
    "            S_space = copy.deepcopy(_S_space)\n",
    "            for sample in range(len(S_space)):\n",
    "                toBeLost = int(len(S_space[0])*(n/100))\n",
    "                randomIndexes = random.sample(range(1, len(S_space[0])-1), toBeLost)\n",
    "                for index in randomIndexes:\n",
    "                    S_space[sample][index] = 0\n",
    "            Y_t_list = []\n",
    "            for sample in range(len(S_space)):\n",
    "                y_t_sample = np.dot(S_space[sample] ,self.W)\n",
    "                for i in range(len(y_t_sample)): #sign\n",
    "                    if(y_t_sample[i] >= 0):\n",
    "                        y_t_sample[i] = 1\n",
    "                    else:\n",
    "                        y_t_sample[i] = -1\n",
    "                Y_t_list.append(y_t_sample)\n",
    "            Y_t_array = np.array(Y_t_list)\n",
    "            if(np.array_equal(Y_t_array, T_space)): \n",
    "                rightAns += 1\n",
    "        return ((rightAns/1000)*100)"
   ]
  },
  {
   "cell_type": "code",
   "execution_count": 116,
   "id": "f30ad95d",
   "metadata": {},
   "outputs": [],
   "source": [
    "A_s = np.array([   [-1, -1 , -1, 1, -1, -1, -1],\n",
    "                   [-1, -1 , -1, 1, -1, -1, -1],\n",
    "                   [-1, -1 , -1, 1, -1, -1, -1],\n",
    "                   [-1, -1 , 1, -1, 1, -1, -1],\n",
    "                   [-1, -1 , 1, -1, 1, -1, -1],\n",
    "                   [-1, 1,   1,  1, 1,  1, -1],\n",
    "                   [-1, 1,  -1, -1, -1, 1, -1],\n",
    "                   [-1, 1,  -1, -1, -1, 1, -1],\n",
    "                   [1,  1,   1, -1,  1, 1,  1]])\n",
    "\n",
    "B_s = np.array([   [ 1,  1,  1,  1,  1,  1, 1],\n",
    "                   [ 1, -1, -1, -1, -1, -1, 1],\n",
    "                   [ 1, -1, -1, -1, -1,  1,-1],\n",
    "                   [ 1, -1, -1, -1,  1, -1,-1],\n",
    "                   [ 1,  1,  1,  1, -1, -1,-1],\n",
    "                   [ 1, -1, -1, -1,  1, -1,-1],\n",
    "                   [ 1, -1, -1, -1, -1,  1,-1],\n",
    "                   [ 1, -1, -1, -1, -1, -1, 1],\n",
    "                   [ 1,  1,  1,  1,  1,  1, 1]])\n",
    "\n",
    "C_s = np.array([   [-1, -1,  1,  1,  1,  1,-1],\n",
    "                   [-1,  1, -1, -1, -1, -1, 1],\n",
    "                   [ 1, -1, -1, -1, -1, -1,-1],\n",
    "                   [ 1, -1, -1, -1, -1, -1,-1],\n",
    "                   [ 1, -1, -1, -1, -1, -1,-1],\n",
    "                   [ 1, -1, -1, -1, -1, -1,-1],\n",
    "                   [ 1, -1, -1, -1, -1, -1,-1],\n",
    "                   [-1,  1, -1, -1, -1, -1, 1],\n",
    "                   [-1, -1,  1,  1,  1,  1,-1]])\n",
    "\n",
    "A_t = np.array([   [-1, 1, -1],\n",
    "                   [ 1, -1, 1],\n",
    "                   [ 1,  1, 1],\n",
    "                   [ 1, -1, 1],\n",
    "                   [ 1, -1, 1]])\n",
    "\n",
    "B_t = np.array([   [ 1, 1, -1],\n",
    "                   [ 1,-1,  1],\n",
    "                   [ 1, 1, -1],\n",
    "                   [ 1,-1,  1],\n",
    "                   [ 1, 1, -1]])\n",
    "\n",
    "C_t = np.array([   [-1, 1, 1],\n",
    "                   [ 1,-1,-1],\n",
    "                   [ 1,-1,-1],\n",
    "                   [ 1,-1,-1],\n",
    "                   [-1, 1, 1]])\n",
    "\n",
    "A_s_reshaped = A_s.reshape((A_s.shape[0]*A_s.shape[1]))\n",
    "B_s_reshaped = B_s.reshape((B_s.shape[0]*B_s.shape[1]))\n",
    "C_s_reshaped = C_s.reshape((C_s.shape[0]*C_s.shape[1]))\n",
    "A_t_teshaped = A_t.reshape((A_t.shape[0]*A_t.shape[1]))\n",
    "B_t_teshaped = B_t.reshape((B_t.shape[0]*B_t.shape[1]))\n",
    "C_t_teshaped = C_t.reshape((C_t.shape[0]*C_t.shape[1]))\n",
    "\n",
    "S = np.array([copy.deepcopy(A_s_reshaped), copy.deepcopy(B_s_reshaped), copy.deepcopy(C_s_reshaped)])\n",
    "T = np.array([copy.deepcopy(A_t_teshaped), copy.deepcopy(B_t_teshaped), copy.deepcopy(C_t_teshaped)])\n",
    "heb = Hebbian(S, T)\n"
   ]
  },
  {
   "cell_type": "markdown",
   "id": "92cf3d94",
   "metadata": {},
   "source": [
    "# Part A"
   ]
  },
  {
   "cell_type": "code",
   "execution_count": 117,
   "id": "dbd3b34e",
   "metadata": {},
   "outputs": [
    {
     "data": {
      "image/png": "[encoded data removed]",
      "text/plain": [
       "<Figure size 432x288 with 1 Axes>"
      ]
     },
     "metadata": {
      "needs_background": "light"
     },
     "output_type": "display_data"
    },
    {
     "data": {
      "image/png": "[encoded data removed]",
      "text/plain": [
       "<Figure size 432x288 with 1 Axes>"
      ]
     },
     "metadata": {
      "needs_background": "light"
     },
     "output_type": "display_data"
    },
    {
     "data": {
      "image/png": "[encoded data removed]",
      "text/plain": [
       "<Figure size 432x288 with 1 Axes>"
      ]
     },
     "metadata": {
      "needs_background": "light"
     },
     "output_type": "display_data"
    }
   ],
   "source": [
    "heb.train()\n",
    "heb.showResult(A_s_reshaped)\n",
    "heb.showResult(B_s_reshaped)\n",
    "heb.showResult(C_s_reshaped)"
   ]
  },
  {
   "cell_type": "markdown",
   "id": "734a82b8",
   "metadata": {},
   "source": [
    "# Part B"
   ]
  },
  {
   "cell_type": "markdown",
   "id": "8cde39cb",
   "metadata": {},
   "source": [
    "## Results of Inputs with 10% & 25% Noise "
   ]
  },
  {
   "cell_type": "code",
   "execution_count": 118,
   "id": "70644e2b",
   "metadata": {},
   "outputs": [
    {
     "name": "stdout",
     "output_type": "stream",
     "text": [
      "100.0 %\n"
     ]
    }
   ],
   "source": [
    "n = 10\n",
    "S_space = np.array([copy.deepcopy(A_s_reshaped), copy.deepcopy(B_s_reshaped), copy.deepcopy(C_s_reshaped)])        \n",
    "T_space = np.array([copy.deepcopy(A_t_teshaped), copy.deepcopy(B_t_teshaped), copy.deepcopy(C_t_teshaped)])    \n",
    "res = heb.showResultWithNoise(S_space,T_space, n)\n",
    "print(res,\"%\")"
   ]
  },
  {
   "cell_type": "code",
   "execution_count": 119,
   "id": "51a255aa",
   "metadata": {},
   "outputs": [
    {
     "name": "stdout",
     "output_type": "stream",
     "text": [
      "92.4 %\n"
     ]
    }
   ],
   "source": [
    "n = 25\n",
    "S_space = np.array([copy.deepcopy(A_s_reshaped), copy.deepcopy(B_s_reshaped), copy.deepcopy(C_s_reshaped)])        \n",
    "T_space = np.array([copy.deepcopy(A_t_teshaped), copy.deepcopy(B_t_teshaped), copy.deepcopy(C_t_teshaped)])    \n",
    "res = heb.showResultWithNoise(S_space,T_space, n)\n",
    "print(res,\"%\")"
   ]
  },
  {
   "cell_type": "markdown",
   "id": "f2c88966",
   "metadata": {},
   "source": [
    "## Results of Inputs with 10% & 25% Lost"
   ]
  },
  {
   "cell_type": "code",
   "execution_count": 120,
   "id": "6a14a00f",
   "metadata": {},
   "outputs": [
    {
     "name": "stdout",
     "output_type": "stream",
     "text": [
      "100.0 %\n"
     ]
    }
   ],
   "source": [
    "n = 10\n",
    "S_space = np.array([copy.deepcopy(A_s_reshaped), copy.deepcopy(B_s_reshaped), copy.deepcopy(C_s_reshaped)])        \n",
    "T_space = np.array([copy.deepcopy(A_t_teshaped), copy.deepcopy(B_t_teshaped), copy.deepcopy(C_t_teshaped)])    \n",
    "res = heb.showResultWithLost(S_space,T_space, n)\n",
    "print(res,\"%\")"
   ]
  },
  {
   "cell_type": "code",
   "execution_count": 121,
   "id": "f121c1d8",
   "metadata": {},
   "outputs": [
    {
     "name": "stdout",
     "output_type": "stream",
     "text": [
      "100.0 %\n"
     ]
    }
   ],
   "source": [
    "n = 25\n",
    "S_space = np.array([copy.deepcopy(A_s_reshaped), copy.deepcopy(B_s_reshaped), copy.deepcopy(C_s_reshaped)])        \n",
    "T_space = np.array([copy.deepcopy(A_t_teshaped), copy.deepcopy(B_t_teshaped), copy.deepcopy(C_t_teshaped)])    \n",
    "res = heb.showResultWithLost(S_space,T_space, n)\n",
    "print(res,\"%\")"
   ]
  }
 ],
 "metadata": {
  "kernelspec": {
   "display_name": "Python 3",
   "language": "python",
   "name": "python3"
  },
  "language_info": {
   "codemirror_mode": {
    "name": "ipython",
    "version": 3
   },
   "file_extension": ".py",
   "mimetype": "text/x-python",
   "name": "python",
   "nbconvert_exporter": "python",
   "pygments_lexer": "ipython3",
   "version": "3.8.8"
  }
 },
 "nbformat": 4,
 "nbformat_minor": 5
}
