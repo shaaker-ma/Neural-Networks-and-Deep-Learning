{
 "cells": [
  {
   "cell_type": "markdown",
   "id": "46aa168b",
   "metadata": {},
   "source": [
    "# <font color='black'><center><center></font> \n",
    "![title](img/All.png) \n",
    "# <font color='white'><center><center></font> \n",
    "# <font><center>Neural Networks & Deep Learning<center></font>\n",
    "# <font ><center>HW4: Q2<center></font>\n",
    "## <center>Teacher: Dr. Kalhor<center>\n",
    "### <center>Mohammadali Shakerdargah <center>\n",
    "### <center>810196487<center>"
   ]
  },
  {
   "cell_type": "code",
   "execution_count": 12,
   "id": "37441305",
   "metadata": {},
   "outputs": [],
   "source": [
    "import numpy as np\n",
    "import math\n",
    "import copy"
   ]
  },
  {
   "cell_type": "code",
   "execution_count": 2,
   "id": "e40db57a",
   "metadata": {},
   "outputs": [
    {
     "name": "stdout",
     "output_type": "stream",
     "text": [
      "Weight:\n",
      " [[ 1.   -0.13 -0.13 -0.13 -0.13 -0.13]\n",
      " [-0.13  1.   -0.13 -0.13 -0.13 -0.13]\n",
      " [-0.13 -0.13  1.   -0.13 -0.13 -0.13]\n",
      " [-0.13 -0.13 -0.13  1.   -0.13 -0.13]\n",
      " [-0.13 -0.13 -0.13 -0.13  1.   -0.13]\n",
      " [-0.13 -0.13 -0.13 -0.13 -0.13  1.  ]]\n"
     ]
    }
   ],
   "source": [
    "m = 6\n",
    "eps = 0.13\n",
    "W = np.zeros((m,m))\n",
    "W = W + np.eye(m)\n",
    "for row in W:\n",
    "    for i in range(len(row)):\n",
    "        if(row[i] != 1):\n",
    "            row[i] = (-1)*eps\n",
    "print(\"Weight:\\n\",W)"
   ]
  },
  {
   "cell_type": "markdown",
   "id": "ba50d04b",
   "metadata": {},
   "source": [
    "# MaxNet "
   ]
  },
  {
   "cell_type": "code",
   "execution_count": 3,
   "id": "26eadc18",
   "metadata": {},
   "outputs": [],
   "source": [
    "def activation_function(x):\n",
    "    res = []\n",
    "    for i in range(len(x)):\n",
    "        res.append(max(x[i],0))\n",
    "    return res"
   ]
  },
  {
   "cell_type": "code",
   "execution_count": 4,
   "id": "05816b86",
   "metadata": {},
   "outputs": [],
   "source": [
    "def find_num_nonzero_elements(x):\n",
    "    cnt = 0\n",
    "    for i in range(len(x)):\n",
    "        if(x[i] != 0):\n",
    "            cnt +=1\n",
    "    return cnt"
   ]
  },
  {
   "cell_type": "code",
   "execution_count": 14,
   "id": "3b7c9886",
   "metadata": {},
   "outputs": [],
   "source": [
    "def find_nonzero_element_index(x):\n",
    "    num = 0\n",
    "    for i in range(len(x)):\n",
    "        if(x[i] != 0):\n",
    "            num = i\n",
    "            break\n",
    "    return num"
   ]
  },
  {
   "cell_type": "markdown",
   "id": "7ab88c46",
   "metadata": {},
   "source": [
    "## Part A:"
   ]
  },
  {
   "cell_type": "code",
   "execution_count": 22,
   "id": "7b4012d5",
   "metadata": {},
   "outputs": [
    {
     "name": "stdout",
     "output_type": "stream",
     "text": [
      "iteration =  0 \n",
      "  Res:  [1.2, 1.1, 0.5, 1.5, 1.13, 0.8] \n",
      "\n",
      "iteration =  1 \n",
      "  Res:  [0.5460999999999999, 0.43310000000000004, 0, 0.8851, 0.46699999999999986, 0.09410000000000002] \n",
      "\n",
      "iteration =  2 \n",
      "  Res:  [0.3017909999999999, 0.1741010000000001, 0, 0.684861, 0.21240799999999985, 0] \n",
      "\n",
      "iteration =  3 \n",
      "  Res:  [0.16251289999999993, 0.018223200000000106, 0, 0.5953820000000001, 0.06151010999999984, 0] \n",
      "\n",
      "iteration =  4 \n",
      "  Res:  [0.07474790969999995, 0, 0, 0.5638899927000001, 0, 0] \n",
      "\n",
      "iteration =  5 \n",
      "  Res:  [0.0014422106489999365, 0, 0, 0.5541727644390001, 0, 0] \n",
      "\n",
      "iteration =  6 \n",
      "  Res:  [0, 0, 0, 0.5539852770546301, 0, 0] \n",
      "\n"
     ]
    }
   ],
   "source": [
    "stop_onlyOneNodePositive = False\n",
    "a_old = [1.2, 1.1, 0.5, 1.5, 1.13, 0.8]\n",
    "print(\"iteration = \", 0, \"\\n  Res: \", a_old, \"\\n\")\n",
    "    \n",
    "iteration = 1\n",
    "maxOfBothCon = [0, 0, 0, 0, 0, 0]\n",
    "while(stop_onlyOneNodePositive == False):\n",
    "    a_new = activation_function(W @ a_old)\n",
    "    print(\"iteration = \", iteration, \"\\n  Res: \", a_new, \"\\n\")\n",
    "    if(find_num_nonzero_elements(a_new) == 1):\n",
    "        maxOfBothCon.append(find_nonzero_element(a_new))\n",
    "        stop_onlyOneNodePositive = True\n",
    "    a_old = a_new\n",
    "    iteration += 1\n"
   ]
  },
  {
   "cell_type": "markdown",
   "id": "86bdb6a6",
   "metadata": {},
   "source": [
    "## Part B:"
   ]
  },
  {
   "cell_type": "code",
   "execution_count": 21,
   "id": "2632c5db",
   "metadata": {},
   "outputs": [
    {
     "name": "stdout",
     "output_type": "stream",
     "text": [
      ".......................  First Part ............................\n",
      "iteration =  0 \n",
      "  Res:  [1.2, 1.1, 0.5, -1.5, 1.13, -0.8] \n",
      "\n",
      "iteration =  1 \n",
      "  Res:  [1.1441, 1.0311000000000003, 0.3531000000000001, 0, 1.065, 0] \n",
      "\n",
      "iteration =  2 \n",
      "  Res:  [0.8257039999999999, 0.6980140000000004, 0, 0, 0.7363209999999999, 0] \n",
      "\n",
      "iteration =  3 \n",
      "  Res:  [0.6392404499999998, 0.4949507500000004, 0, 0, 0.5382376599999998, 0] \n",
      "\n",
      "iteration =  4 \n",
      "  Res:  [0.5049259566999998, 0.34187859570000045, 0, 0, 0.39079280399999977, 0] \n",
      "\n",
      "iteration =  5 \n",
      "  Res:  [0.40967867473899977, 0.2254351568090005, 0, 0, 0.28070821218799974, 0] \n",
      "\n",
      "iteration =  6 \n",
      "  Res:  [0.3438800367693897, 0.13568486150849057, 0, 0, 0.1981434140867597, 0] \n",
      "\n",
      "iteration =  7 \n",
      "  Res:  [0.3004823609420072, 0.06522181289719114, 0, 0, 0.13579997731063526, 0] \n",
      "\n",
      "iteration =  8 \n",
      "  Res:  [0.2743495282149898, 0.008505108924347624, 0, 0, 0.08825843471153946, 0] \n",
      "\n",
      "iteration =  9 \n",
      "  Res:  [0.2617702675423245, 0, 0, 0, 0.051487331883425594, 0] \n",
      "\n",
      "iteration =  10 \n",
      "  Res:  [0.2550769143974792, 0, 0, 0, 0.017457197102923407, 0] \n",
      "\n",
      "iteration =  11 \n",
      "  Res:  [0.25280747877409915, 0, 0, 0, 0, 0] \n",
      "\n",
      ".......................  Second Part ............................\n",
      "iteration =  0 \n",
      "  Res:  [-1.2, -1.1, -0.5, 1.5, -1.13, 0.8] \n",
      "\n",
      "iteration =  1 \n",
      "  Res:  [0, 0, 0, 1.9068999999999998, 0, 1.1159] \n",
      "\n",
      "iteration =  2 \n",
      "  Res:  [0, 0, 0, 1.7618329999999998, 0, 0.8680029999999999] \n",
      "\n",
      "iteration =  3 \n",
      "  Res:  [0, 0, 0, 1.6489926099999999, 0, 0.6389647099999999] \n",
      "\n",
      "iteration =  4 \n",
      "  Res:  [0, 0, 0, 1.5659271976999998, 0, 0.4245956706999999] \n",
      "\n",
      "iteration =  5 \n",
      "  Res:  [0, 0, 0, 1.5107297605089998, 0, 0.22102513499899995] \n",
      "\n",
      "iteration =  6 \n",
      "  Res:  [0, 0, 0, 1.4819964929591298, 0, 0.02463026613282998] \n",
      "\n",
      "iteration =  7 \n",
      "  Res:  [0, 0, 0, 1.478794558361862, 0, 0] \n",
      "\n",
      ".......................... Final Part ............................\n",
      "iteration =  0 \n",
      "  Res:  [1.2, 0, 0, 1.5, 0, 0] \n",
      "\n",
      "iteration =  1 \n",
      "  Res:  [1.005, 0, 0, 1.344, 0, 0] \n",
      "\n",
      "iteration =  2 \n",
      "  Res:  [0, 0, 0, 1.478794558361862, 0, 0] \n",
      "\n"
     ]
    }
   ],
   "source": [
    "stop_con1, stop_con2, stop_conFinal  = False, False, False\n",
    "a_old = [1.2, 1.1, 0.5, -1.5, 1.13, -0.8]\n",
    "a_old_org = copy.deepcopy(a_old)\n",
    "toBeMultiplied = -1\n",
    "a_old_neg = []\n",
    "for num in a_old:\n",
    "    a_old_neg.append(num * toBeMultiplied)\n",
    "a_old_neg_org = copy.deepcopy(a_old_neg)\n",
    "maxOfBothCon = [0, 0, 0, 0, 0, 0]\n",
    "\n",
    "print('.......................  First Part ............................')\n",
    "print(\"iteration = \", 0, \"\\n  Res: \", a_old, \"\\n\")\n",
    "iteration = 1\n",
    "while(stop_con1 == False):\n",
    "    a_new = activation_function(W @ a_old)\n",
    "    print(\"iteration = \", iteration, \"\\n  Res: \", a_new, \"\\n\")\n",
    "    if(find_num_nonzero_elements(a_new) == 1):\n",
    "        indexOfLargest = find_nonzero_element_index(a_new)\n",
    "        maxOfBothCon[indexOfLargest] = a_old_org[indexOfLargest]\n",
    "        stop_con1 = True\n",
    "    a_old = a_new\n",
    "    iteration += 1\n",
    "\n",
    "\n",
    "print('.......................  Second Part ............................')\n",
    "print(\"iteration = \", 0, \"\\n  Res: \", a_old_neg, \"\\n\")\n",
    "iteration = 1\n",
    "while(stop_con2 == False):\n",
    "    a_neg_new = activation_function(W @ a_old_neg)\n",
    "    print(\"iteration = \", iteration, \"\\n  Res: \", a_neg_new, \"\\n\")\n",
    "    if(find_num_nonzero_elements(a_neg_new) == 1):\n",
    "        indexOfLargest = find_nonzero_element_index(a_neg_new)\n",
    "        maxOfBothCon[indexOfLargest] = a_old_neg_org[indexOfLargest]\n",
    "        stop_con2 = True\n",
    "    a_old_neg = a_neg_new\n",
    "    iteration += 1\n",
    "    \n",
    "print('.......................... Final Part ............................')\n",
    "print(\"iteration = \", 0, \"\\n  Res: \", maxOfBothCon, \"\\n\")\n",
    "iteration = 1\n",
    "while(stop_conFinal == False):\n",
    "    maxOfBothCon_new = activation_function(W @ maxOfBothCon)\n",
    "    print(\"iteration = \", iteration, \"\\n  Res: \", maxOfBothCon_new, \"\\n\")\n",
    "    if(find_num_nonzero_elements(maxOfBothCon_new) == 1):\n",
    "        stop_conFinal = True\n",
    "    maxOfBothCon = a_neg_new\n",
    "    iteration += 1"
   ]
  }
 ],
 "metadata": {
  "kernelspec": {
   "display_name": "Python 3",
   "language": "python",
   "name": "python3"
  },
  "language_info": {
   "codemirror_mode": {
    "name": "ipython",
    "version": 3
   },
   "file_extension": ".py",
   "mimetype": "text/x-python",
   "name": "python",
   "nbconvert_exporter": "python",
   "pygments_lexer": "ipython3",
   "version": "3.8.8"
  }
 },
 "nbformat": 4,
 "nbformat_minor": 5
}
