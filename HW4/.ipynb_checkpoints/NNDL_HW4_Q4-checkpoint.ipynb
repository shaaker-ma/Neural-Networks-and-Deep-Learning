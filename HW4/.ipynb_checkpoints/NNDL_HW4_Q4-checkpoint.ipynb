{
 "cells": [
  {
   "cell_type": "markdown",
   "id": "ced62599",
   "metadata": {},
   "source": [
    "# <font color='black'><center><center></font> \n",
    "![title](img/All.png) \n",
    "# <font color='white'><center><center></font> \n",
    "# <font><center>Neural Networks & Deep Learning<center></font>\n",
    "# <font ><center>HW4: Q4<center></font>\n",
    "## <center>Teacher: Dr. Kalhor<center>\n",
    "### <center>Mohammadali Shakerdargah <center>\n",
    "### <center>810196487<center>"
   ]
  },
  {
   "cell_type": "code",
   "execution_count": 2,
   "id": "b0d3a334",
   "metadata": {},
   "outputs": [],
   "source": [
    "import numpy as np\n",
    "import math\n",
    "import copy\n",
    "import matplotlib.pyplot as plt"
   ]
  },
  {
   "cell_type": "code",
   "execution_count": 16,
   "id": "4429edc8",
   "metadata": {},
   "outputs": [],
   "source": [
    "def activation_function(x):\n",
    "    res = []\n",
    "    for i in range(len(x)):\n",
    "        res.append(max(x[i],0))\n",
    "    return res"
   ]
  },
  {
   "cell_type": "code",
   "execution_count": 17,
   "id": "6b315fc0",
   "metadata": {},
   "outputs": [],
   "source": [
    "def find_num_nonzero_elements(x):\n",
    "    cnt = 0\n",
    "    for i in range(len(x)):\n",
    "        if(x[i] != 0):\n",
    "            cnt +=1\n",
    "    return cnt"
   ]
  },
  {
   "cell_type": "code",
   "execution_count": 18,
   "id": "6838199f",
   "metadata": {},
   "outputs": [],
   "source": [
    "def find_nonzero_element_index(x):\n",
    "    num = 0\n",
    "    for i in range(len(x)):\n",
    "        if(x[i] != 0):\n",
    "            num = i\n",
    "            break\n",
    "    return num"
   ]
  },
  {
   "cell_type": "code",
   "execution_count": 58,
   "id": "1442f972",
   "metadata": {},
   "outputs": [],
   "source": [
    "def MaxNet(a_old):\n",
    "    m = 3\n",
    "    eps = 0.13\n",
    "    W = np.zeros((m,m))\n",
    "    W = W + np.eye(m)\n",
    "    for row in W:\n",
    "        for i in range(len(row)):\n",
    "            if(row[i] != 1):\n",
    "                row[i] = (-1)*eps\n",
    "\n",
    "    stop_onlyOneNodePositive = False\n",
    "    iteration = 1\n",
    "    maximums_index = []\n",
    "    while(stop_onlyOneNodePositive == False):\n",
    "        a_new = activation_function(W @ a_old)\n",
    "        if(find_num_nonzero_elements(a_new) == 1):\n",
    "            maximums_index.append(find_nonzero_element_index(a_new)+1)\n",
    "            stop_onlyOneNodePositive = True\n",
    "            return maximums_index\n",
    "        if(iteration > 20000):\n",
    "            for i in range(len(a_new)):\n",
    "                if(a_new[i] > 0):\n",
    "                    maximums_index.append(i+1) # reveals e1 or e2 or e3\n",
    "            print(\"stopped after 20000 iterations, There are more than one maximum\")\n",
    "            stop_onlyOneNodePositive = True\n",
    "            return maximums_index\n",
    "        a_old = a_new\n",
    "        iteration += 1\n"
   ]
  },
  {
   "cell_type": "code",
   "execution_count": 44,
   "id": "cb5b687e",
   "metadata": {},
   "outputs": [
    {
     "name": "stdout",
     "output_type": "stream",
     "text": [
      "W:  [[ 0.5 -0.5  0.5 -0.5  0.5 -0.5]\n",
      " [-0.5  0.5 -0.5  0.5 -0.5 -0.5]\n",
      " [ 0.5  0.5  0.5 -0.5 -0.5 -0.5]]\n",
      "b:  [3.0, 3.0, 3.0]\n"
     ]
    }
   ],
   "source": [
    "n = 6\n",
    "e1 = np.array([1, -1, 1, -1, 1, -1])\n",
    "e2 = np.array([-1, 1, -1, 1, -1, -1])\n",
    "e3 = np.array([1, 1, 1, -1, -1, -1])\n",
    "e = [e1, e2, e3]\n",
    "W = np.zeros((3,6))\n",
    "for i in range(len(W)):\n",
    "    for j in range(len(W[i])):\n",
    "        W[i][j] = (0.5)*e[i][j]\n",
    "b = [n/2, n/2, n/2]\n",
    "\n",
    "print(\"W: \",W)\n",
    "print(\"b: \",b)\n",
    "\n",
    "V1= np.array([1, 1, 1, 1, 1, 1])\n",
    "V2 = np.array([-1, 1, -1, -1, 1, 1])\n",
    "V3 = np.array([-1, -1, 1, 1, 1, 1])\n",
    "V4 = np.array([-1, -1, 1, 1, -1, 1])\n",
    "V5 = np.array([-1, 1, 1, -1, -1, -1])\n",
    "V = np.array([V1, V2, V3, V4, V5])\n",
    "\n"
   ]
  },
  {
   "cell_type": "code",
   "execution_count": 64,
   "id": "39f37713",
   "metadata": {},
   "outputs": [
    {
     "name": "stdout",
     "output_type": "stream",
     "text": [
      "Result of Y_1 [3. 2. 3.]\n",
      "stopped after 20000 iterations, There are more than one maximum\n",
      "indexes of e_i that has most similarity: [1, 3]\n"
     ]
    }
   ],
   "source": [
    "#V1\n",
    "Y_1 = b + np.dot(V1, np.transpose(W))\n",
    "print(\"Result of Y_1\", Y_1)\n",
    "resultOfMaxNet = MaxNet(Y_1)\n",
    "print(\"indexes of e_i that has most similarity:\", resultOfMaxNet)"
   ]
  },
  {
   "cell_type": "code",
   "execution_count": 60,
   "id": "2cee2246",
   "metadata": {},
   "outputs": [
    {
     "name": "stdout",
     "output_type": "stream",
     "text": [
      "Result of Y_2 [2. 3. 2.]\n",
      "indexes of e_i that has nost similarity: [2]\n"
     ]
    }
   ],
   "source": [
    "#V2\n",
    "Y_2 = b + np.dot(V2, np.transpose(W))\n",
    "print(\"Result of Y_2\", Y_2)\n",
    "resultOfMaxNet = MaxNet(Y_2)\n",
    "print(\"indexes of e_i that has most similarity:\", resultOfMaxNet)"
   ]
  },
  {
   "cell_type": "code",
   "execution_count": 65,
   "id": "ad180a1a",
   "metadata": {},
   "outputs": [
    {
     "name": "stdout",
     "output_type": "stream",
     "text": [
      "Result of Y_3 [3. 2. 1.]\n",
      "indexes of e_i that has most similarity: [1]\n"
     ]
    }
   ],
   "source": [
    "#V3\n",
    "Y_3 = b + np.dot(V3, np.transpose(W))\n",
    "print(\"Result of Y_3\", Y_3)\n",
    "resultOfMaxNet = MaxNet(Y_3)\n",
    "print(\"indexes of e_i that has most similarity:\", resultOfMaxNet)"
   ]
  },
  {
   "cell_type": "code",
   "execution_count": 66,
   "id": "4f7c3a43",
   "metadata": {},
   "outputs": [
    {
     "name": "stdout",
     "output_type": "stream",
     "text": [
      "Result of Y_4 [2. 3. 2.]\n",
      "indexes of e_i that has most similarity: [2]\n"
     ]
    }
   ],
   "source": [
    "#V4\n",
    "Y_4 = b + np.dot(V4, np.transpose(W))\n",
    "print(\"Result of Y_4\", Y_4)\n",
    "resultOfMaxNet = MaxNet(Y_4)\n",
    "print(\"indexes of e_i that has most similarity:\", resultOfMaxNet)"
   ]
  },
  {
   "cell_type": "code",
   "execution_count": 68,
   "id": "470a576b",
   "metadata": {},
   "outputs": [
    {
     "name": "stdout",
     "output_type": "stream",
     "text": [
      "Result of Y_4 [3. 4. 5.]\n",
      "indexes of e_i that has most similarity: [3]\n"
     ]
    }
   ],
   "source": [
    "#V5\n",
    "Y_5 = b + np.dot(V5, np.transpose(W))\n",
    "print(\"Result of Y_4\", Y_5)\n",
    "resultOfMaxNet = MaxNet(Y_5)\n",
    "print(\"indexes of e_i that has most similarity:\", resultOfMaxNet)"
   ]
  }
 ],
 "metadata": {
  "kernelspec": {
   "display_name": "Python 3",
   "language": "python",
   "name": "python3"
  },
  "language_info": {
   "codemirror_mode": {
    "name": "ipython",
    "version": 3
   },
   "file_extension": ".py",
   "mimetype": "text/x-python",
   "name": "python",
   "nbconvert_exporter": "python",
   "pygments_lexer": "ipython3",
   "version": "3.8.8"
  }
 },
 "nbformat": 4,
 "nbformat_minor": 5
}
