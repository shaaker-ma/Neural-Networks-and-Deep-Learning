{
 "cells": [
  {
   "cell_type": "code",
   "execution_count": 1,
   "metadata": {
    "id": "PQ2sgGMkEU8l"
   },
   "outputs": [],
   "source": [
    "import pandas as pd\n",
    "import numpy as np\n",
    "from matplotlib import pyplot as plt\n",
    "plt.style.use('ggplot')\n",
    "\n",
    "from keras.models import Sequential\n",
    "from keras import layers\n",
    "from keras import regularizers\n",
    "from keras import backend as K\n",
    "from keras.callbacks import ModelCheckpoint\n",
    "import tensorflow as tf\n",
    "from keras.preprocessing.text import one_hot\n",
    "from keras.preprocessing.sequence import pad_sequences\n",
    "from sklearn.model_selection import train_test_split\n",
    "from sklearn.metrics import confusion_matrix\n",
    "import seaborn as sn\n",
    "from keras.preprocessing.text import Tokenizer"
   ]
  },
  {
   "cell_type": "code",
   "execution_count": 47,
   "metadata": {
    "id": "i5a1eGojFgHZ"
   },
   "outputs": [],
   "source": [
    "df = pd.read_csv('sentiment_final.csv')"
   ]
  },
  {
   "cell_type": "code",
   "execution_count": 48,
   "metadata": {
    "colab": {
     "base_uri": "https://localhost:8080/"
    },
    "id": "p3hXeM4bFpHm",
    "outputId": "d57e230a-f5dd-4906-a3cd-7468fcc1138b"
   },
   "outputs": [
    {
     "data": {
      "text/plain": [
       "Negative    8493\n",
       "Positive    2236\n",
       "Name: sentiment, dtype: int64"
      ]
     },
     "execution_count": 48,
     "metadata": {
      "tags": []
     },
     "output_type": "execute_result"
    }
   ],
   "source": [
    "df.sentiment.value_counts()"
   ]
  },
  {
   "cell_type": "code",
   "execution_count": 49,
   "metadata": {
    "colab": {
     "base_uri": "https://localhost:8080/"
    },
    "id": "aTgw8PMQTJz8",
    "outputId": "59f3b54e-3bfb-4cb2-8bc9-89aba670219e"
   },
   "outputs": [
    {
     "data": {
      "text/plain": [
       "0"
      ]
     },
     "execution_count": 49,
     "metadata": {
      "tags": []
     },
     "output_type": "execute_result"
    }
   ],
   "source": [
    "df[\"text\"].isnull().sum()"
   ]
  },
  {
   "cell_type": "code",
   "execution_count": 50,
   "metadata": {
    "colab": {
     "base_uri": "https://localhost:8080/"
    },
    "id": "RzSUbWepagAU",
    "outputId": "a1d5bb9b-6d56-4f25-b27e-ad926dee7e3a"
   },
   "outputs": [
    {
     "data": {
      "text/plain": [
       "33"
      ]
     },
     "execution_count": 50,
     "metadata": {
      "tags": []
     },
     "output_type": "execute_result"
    }
   ],
   "source": [
    "## how many words are there in each tweet\n",
    "max([len(x.split(\" \")) for x in df.text])"
   ]
  },
  {
   "cell_type": "code",
   "execution_count": 51,
   "metadata": {
    "colab": {
     "base_uri": "https://localhost:8080/"
    },
    "id": "I_Who4P4xUgm",
    "outputId": "b113eef1-b544-4b74-db1b-0586488ea97c"
   },
   "outputs": [
    {
     "name": "stdout",
     "output_type": "stream",
     "text": [
      "Requirement already satisfied: autocorrect in /usr/local/lib/python3.7/dist-packages (2.5.0)\n",
      "Requirement already satisfied: nlpaug in /usr/local/lib/python3.7/dist-packages (1.1.4)\n"
     ]
    }
   ],
   "source": [
    "!pip install autocorrect\n",
    "!pip install nlpaug"
   ]
  },
  {
   "cell_type": "code",
   "execution_count": 52,
   "metadata": {
    "id": "7GVXHrgga4s1"
   },
   "outputs": [],
   "source": [
    "import re\n",
    "from autocorrect import Speller\n",
    "spell = Speller(lang='en')\n",
    "\n",
    "def depure_data(data):\n",
    "    #Removing URLs with a regular expression\n",
    "    url_pattern = re.compile(r'https?://\\S+|www\\.\\S+')\n",
    "    data = url_pattern.sub(r'', data)\n",
    "    # Remove Emails\n",
    "    data = re.sub('\\S*@\\S*\\s?', '', data)\n",
    "    # Remove new line characters\n",
    "    data = re.sub('\\s+', ' ', data)\n",
    "    # Remove distracting single quotes\n",
    "    data = re.sub(\"\\'\", \"\", data)\n",
    "    data = data.lower()\n",
    "    data = re.sub('rt ', '', data)\n",
    "    data = re.sub('\\#\\S+ ', '', data)\n",
    "    data = re.sub('\\#\\S+', '', data)\n",
    "    data = re.sub('\\d+ ', '', data)\n",
    "    data = re.sub('&\\S+', '', data)\n",
    "    data = re.sub('\\.', '', data)\n",
    "    data = re.sub('\\:', '', data)\n",
    "    data = re.sub('\\!', '', data)\n",
    "    data = re.sub('\\s\\s+', ' ', data)\n",
    "    data = ''.join([i if ord(i) < 128 else ' ' for i in data])\n",
    "    # data = spell.autocorrect_sentence(data)\n",
    "    return data"
   ]
  },
  {
   "cell_type": "markdown",
   "metadata": {
    "id": "nSrhipKITfNf"
   },
   "source": [
    "## Reduced dataset"
   ]
  },
  {
   "cell_type": "code",
   "execution_count": null,
   "metadata": {
    "colab": {
     "base_uri": "https://localhost:8080/",
     "height": 467
    },
    "id": "sKpRHW_n-uqM",
    "outputId": "a9f89782-fe32-41c1-a851-91bff731143a"
   },
   "outputs": [
    {
     "name": "stdout",
     "output_type": "stream",
     "text": [
      "8493 2236\n",
      "2236 2236\n",
      "(4472,)\n"
     ]
    },
    {
     "data": {
      "text/html": [
       "<div>\n",
       "<style scoped>\n",
       "    .dataframe tbody tr th:only-of-type {\n",
       "        vertical-align: middle;\n",
       "    }\n",
       "\n",
       "    .dataframe tbody tr th {\n",
       "        vertical-align: top;\n",
       "    }\n",
       "\n",
       "    .dataframe thead th {\n",
       "        text-align: right;\n",
       "    }\n",
       "</style>\n",
       "<table border=\"1\" class=\"dataframe\">\n",
       "  <thead>\n",
       "    <tr style=\"text-align: right;\">\n",
       "      <th></th>\n",
       "      <th>text</th>\n",
       "      <th>sentiment</th>\n",
       "    </tr>\n",
       "  </thead>\n",
       "  <tbody>\n",
       "    <tr>\n",
       "      <th>0</th>\n",
       "      <td>So last night,\\n#JonVoyage full of honesty and...</td>\n",
       "      <td>Negative</td>\n",
       "    </tr>\n",
       "    <tr>\n",
       "      <th>1</th>\n",
       "      <td>I did watch all 2nd string #GOPDebate ... can ...</td>\n",
       "      <td>Negative</td>\n",
       "    </tr>\n",
       "    <tr>\n",
       "      <th>2</th>\n",
       "      <td>RT @FatCatColleen: \"Maybe if I just keep bring...</td>\n",
       "      <td>Negative</td>\n",
       "    </tr>\n",
       "    <tr>\n",
       "      <th>3</th>\n",
       "      <td>An assassination attempt  ...now GOP has to de...</td>\n",
       "      <td>Negative</td>\n",
       "    </tr>\n",
       "    <tr>\n",
       "      <th>4</th>\n",
       "      <td>RT @RWSurferGirl: I'd really like to see how l...</td>\n",
       "      <td>Negative</td>\n",
       "    </tr>\n",
       "    <tr>\n",
       "      <th>...</th>\n",
       "      <td>...</td>\n",
       "      <td>...</td>\n",
       "    </tr>\n",
       "    <tr>\n",
       "      <th>4467</th>\n",
       "      <td>Best line of #GOPDebate was \"Immigration witho...</td>\n",
       "      <td>Positive</td>\n",
       "    </tr>\n",
       "    <tr>\n",
       "      <th>4468</th>\n",
       "      <td>RT @RWSurferGirl: Trump has got it right, nobo...</td>\n",
       "      <td>Positive</td>\n",
       "    </tr>\n",
       "    <tr>\n",
       "      <th>4469</th>\n",
       "      <td>RT @georgehenryw: Who thought Huckabee exceede...</td>\n",
       "      <td>Positive</td>\n",
       "    </tr>\n",
       "    <tr>\n",
       "      <th>4470</th>\n",
       "      <td>RT @Lrihendry: #TedCruz As President, I will a...</td>\n",
       "      <td>Positive</td>\n",
       "    </tr>\n",
       "    <tr>\n",
       "      <th>4471</th>\n",
       "      <td>RT @Lrihendry: #TedCruz headed into the Presid...</td>\n",
       "      <td>Positive</td>\n",
       "    </tr>\n",
       "  </tbody>\n",
       "</table>\n",
       "<p>4472 rows × 2 columns</p>\n",
       "</div>"
      ],
      "text/plain": [
       "                                                   text sentiment\n",
       "0     So last night,\\n#JonVoyage full of honesty and...  Negative\n",
       "1     I did watch all 2nd string #GOPDebate ... can ...  Negative\n",
       "2     RT @FatCatColleen: \"Maybe if I just keep bring...  Negative\n",
       "3     An assassination attempt  ...now GOP has to de...  Negative\n",
       "4     RT @RWSurferGirl: I'd really like to see how l...  Negative\n",
       "...                                                 ...       ...\n",
       "4467  Best line of #GOPDebate was \"Immigration witho...  Positive\n",
       "4468  RT @RWSurferGirl: Trump has got it right, nobo...  Positive\n",
       "4469  RT @georgehenryw: Who thought Huckabee exceede...  Positive\n",
       "4470  RT @Lrihendry: #TedCruz As President, I will a...  Positive\n",
       "4471  RT @Lrihendry: #TedCruz headed into the Presid...  Positive\n",
       "\n",
       "[4472 rows x 2 columns]"
      ]
     },
     "execution_count": 8,
     "metadata": {
      "tags": []
     },
     "output_type": "execute_result"
    }
   ],
   "source": [
    "neg_sentiment = df.text.to_numpy()[np.where(df.sentiment.to_numpy() == 'Negative')[0]]\n",
    "pos_sentiment = df.text.to_numpy()[np.where(df.sentiment.to_numpy() == 'Positive')[0]]\n",
    "print(len(neg_sentiment), len(pos_sentiment))\n",
    "\n",
    "reduced_neg_sentiment = np.random.choice(neg_sentiment, len(pos_sentiment))\n",
    "print(len(reduced_neg_sentiment), len(pos_sentiment))\n",
    "data = np.concatenate([reduced_neg_sentiment, pos_sentiment])\n",
    "print(data.shape)\n",
    "target_n = np.array(['Negative']*len(reduced_neg_sentiment))\n",
    "target_p = np.array(['Positive']*len(pos_sentiment))\n",
    "target = np.concatenate([target_n, target_p])\n",
    "df = pd.DataFrame({'text': data, 'sentiment': target})\n",
    "df"
   ]
  },
  {
   "cell_type": "markdown",
   "metadata": {
    "id": "0kxm9cxZTh49"
   },
   "source": [
    "## Expanded dataset"
   ]
  },
  {
   "cell_type": "code",
   "execution_count": 53,
   "metadata": {
    "colab": {
     "base_uri": "https://localhost:8080/",
     "height": 35
    },
    "id": "xRpETW4jbGU5",
    "outputId": "c0aaf360-bbd0-4301-8e09-32e920b4db85"
   },
   "outputs": [
    {
     "data": {
      "application/vnd.google.colaboratory.intrinsic+json": {
       "type": "string"
      },
      "text/plain": [
       "'before the focus groupers said they had favorable view of trump after, only saw him positively '"
      ]
     },
     "execution_count": 53,
     "metadata": {
      "tags": []
     },
     "output_type": "execute_result"
    }
   ],
   "source": [
    "data = df.text\n",
    "clean_data = data.apply(depure_data)\n",
    "clean_data[50]"
   ]
  },
  {
   "cell_type": "code",
   "execution_count": 54,
   "metadata": {
    "colab": {
     "base_uri": "https://localhost:8080/"
    },
    "id": "9WjessyBx1JL",
    "outputId": "31f2d258-492b-4be7-df0f-78929a12eec4"
   },
   "outputs": [
    {
     "name": "stdout",
     "output_type": "stream",
     "text": [
      "[nltk_data] Downloading package averaged_perceptron_tagger to\n",
      "[nltk_data]     /root/nltk_data...\n",
      "[nltk_data]   Package averaged_perceptron_tagger is already up-to-\n",
      "[nltk_data]       date!\n",
      "[nltk_data] Downloading package wordnet to /root/nltk_data...\n",
      "[nltk_data]   Package wordnet is already up-to-date!\n"
     ]
    }
   ],
   "source": [
    "import nltk\n",
    "nltk.download('averaged_perceptron_tagger')\n",
    "nltk.download('wordnet')\n",
    "import nlpaug\n",
    "import nlpaug.augmenter.word as naw\n",
    "aug = naw.SynonymAug(aug_src='wordnet',aug_max=5)\n"
   ]
  },
  {
   "cell_type": "code",
   "execution_count": 42,
   "metadata": {
    "id": "R-plGfG0ylh6"
   },
   "outputs": [],
   "source": [
    "class_neg = clean_data.where(df.sentiment == 'Negative').dropna()\n",
    "class_pos = clean_data.where(df.sentiment == 'Positive').dropna()\n",
    "augmented = []\n",
    "for d in class_pos:\n",
    "  res = aug.augment(d,n=3)\n",
    "  augmented += res\n",
    "\n",
    "augmented += class_pos.to_list()"
   ]
  },
  {
   "cell_type": "code",
   "execution_count": 43,
   "metadata": {
    "colab": {
     "base_uri": "https://localhost:8080/"
    },
    "id": "HBYS98cUzaUo",
    "outputId": "9705dd3e-8e4d-4673-f1ff-7a7225aff0e0"
   },
   "outputs": [
    {
     "data": {
      "text/plain": [
       "8944"
      ]
     },
     "execution_count": 43,
     "metadata": {
      "tags": []
     },
     "output_type": "execute_result"
    }
   ],
   "source": [
    "len(augmented)"
   ]
  },
  {
   "cell_type": "code",
   "execution_count": 44,
   "metadata": {
    "id": "Z-GXuwp101O3"
   },
   "outputs": [],
   "source": [
    "new_data = class_neg.to_list() + augmented\n",
    "labels = ['Negative']*len(class_neg.to_list()) + ['Positive']*len(augmented)"
   ]
  },
  {
   "cell_type": "code",
   "execution_count": 45,
   "metadata": {
    "id": "fUmhsHRW1FIn"
   },
   "outputs": [],
   "source": [
    "dataset = pd.DataFrame({'text': new_data, 'sentiment': labels})"
   ]
  },
  {
   "cell_type": "code",
   "execution_count": 58,
   "metadata": {
    "colab": {
     "base_uri": "https://localhost:8080/"
    },
    "id": "zD4vSSbF1K9Q",
    "outputId": "1c4fd758-9f9f-4798-f0ce-154e971497e9"
   },
   "outputs": [
    {
     "data": {
      "text/plain": [
       "Positive    8944\n",
       "Negative    8493\n",
       "Name: sentiment, dtype: int64"
      ]
     },
     "execution_count": 58,
     "metadata": {
      "tags": []
     },
     "output_type": "execute_result"
    }
   ],
   "source": [
    "dataset = dataset.sample(frac=1).reset_index(drop=True)\n",
    "dataset.sentiment.value_counts()"
   ]
  },
  {
   "cell_type": "code",
   "execution_count": 59,
   "metadata": {
    "id": "7ZBhnwII3EsE"
   },
   "outputs": [],
   "source": [
    "clean_data = dataset.text"
   ]
  },
  {
   "cell_type": "code",
   "execution_count": 60,
   "metadata": {
    "id": "YSppmRaWa5TX"
   },
   "outputs": [],
   "source": [
    "tokenizer = Tokenizer(num_words=1000, lower=True,split=' ', filters='!\"#$%&()*+,-./:;<=>?@[\\\\]^_`{|}~\\t\\n')\n",
    "tokenizer.fit_on_texts(clean_data)\n",
    "enc_data = tokenizer.texts_to_sequences(clean_data)\n",
    "enc_data = pad_sequences(enc_data, maxlen=35)"
   ]
  },
  {
   "cell_type": "code",
   "execution_count": 61,
   "metadata": {
    "colab": {
     "base_uri": "https://localhost:8080/"
    },
    "id": "zaLrJh9YEf_x",
    "outputId": "1b858b99-f791-4a56-c35d-93859e5ad8d4"
   },
   "outputs": [
    {
     "data": {
      "text/plain": [
       "11504"
      ]
     },
     "execution_count": 61,
     "metadata": {
      "tags": []
     },
     "output_type": "execute_result"
    }
   ],
   "source": [
    "vocab_size = len(tokenizer.word_counts.keys())\n",
    "vocab_size"
   ]
  },
  {
   "cell_type": "code",
   "execution_count": 62,
   "metadata": {
    "id": "DMXztVJ5SrtE"
   },
   "outputs": [],
   "source": [
    "## Prepare Labels\n",
    "target = dataset.sentiment\n",
    "labels = target.replace('Positive', 1)\n",
    "labels = labels.replace('Negative', 0)\n",
    "labels = tf.keras.utils.to_categorical(labels, 2, dtype=\"float32\")"
   ]
  },
  {
   "cell_type": "code",
   "execution_count": null,
   "metadata": {
    "colab": {
     "base_uri": "https://localhost:8080/"
    },
    "id": "hJGLmGRn4ULH",
    "outputId": "8dfd004b-dc52-4393-f048-84cc7c06b8d2"
   },
   "outputs": [
    {
     "name": "stderr",
     "output_type": "stream",
     "text": [
      "/usr/local/lib/python3.7/dist-packages/sklearn/utils/deprecation.py:87: FutureWarning: Function safe_indexing is deprecated; safe_indexing is deprecated in version 0.22 and will be removed in version 0.24.\n",
      "  warnings.warn(msg, category=FutureWarning)\n"
     ]
    }
   ],
   "source": [
    "from imblearn.over_sampling import ADASYN, SMOTE, RandomOverSampler\n",
    "\n",
    "smt = SMOTE(random_state=95, k_neighbors=3)\n",
    "X, y = smt.fit_resample(enc_data, labels)\n",
    "y = tf.keras.utils.to_categorical(y, 2, dtype=\"float32\")"
   ]
  },
  {
   "cell_type": "code",
   "execution_count": 63,
   "metadata": {
    "colab": {
     "base_uri": "https://localhost:8080/"
    },
    "id": "q8Xl1KDFkce6",
    "outputId": "8a8f0b10-2b4a-4c72-880e-853f6e31ef1a"
   },
   "outputs": [
    {
     "data": {
      "text/plain": [
       "(13949, 3488, 13949, 3488)"
      ]
     },
     "execution_count": 63,
     "metadata": {
      "tags": []
     },
     "output_type": "execute_result"
    }
   ],
   "source": [
    "#Splitting the data\n",
    "X_train, X_test, y_train, y_test = train_test_split(enc_data, labels, random_state=95, test_size=0.2)\n",
    "len(X_train),len(X_test),len(y_train),len(y_test)"
   ]
  },
  {
   "cell_type": "code",
   "execution_count": 64,
   "metadata": {
    "colab": {
     "base_uri": "https://localhost:8080/"
    },
    "id": "JJhmSMWj6dAr",
    "outputId": "4caae56c-30c4-4555-b59c-8743b8a4fdaa"
   },
   "outputs": [
    {
     "data": {
      "text/plain": [
       "0.5126532367911678"
      ]
     },
     "execution_count": 64,
     "metadata": {
      "tags": []
     },
     "output_type": "execute_result"
    }
   ],
   "source": [
    "a = np.argmax(y_train, axis=1)\n",
    "a.sum()/len(a)"
   ]
  },
  {
   "cell_type": "code",
   "execution_count": 65,
   "metadata": {
    "colab": {
     "base_uri": "https://localhost:8080/"
    },
    "id": "9KWAuM0jSr6L",
    "outputId": "ad6cb9da-a36b-4355-bae3-9bace1e9186a"
   },
   "outputs": [
    {
     "name": "stdout",
     "output_type": "stream",
     "text": [
      "WARNING:tensorflow:Layer lstm will not use cuDNN kernels since it doesn't meet the criteria. It will use a generic GPU kernel as fallback when running on GPU.\n",
      "Model: \"sequential\"\n",
      "_________________________________________________________________\n",
      "Layer (type)                 Output Shape              Param #   \n",
      "=================================================================\n",
      "embedding (Embedding)        (None, 35, 256)           2945280   \n",
      "_________________________________________________________________\n",
      "lstm (LSTM)                  (None, 128)               197120    \n",
      "_________________________________________________________________\n",
      "dense (Dense)                (None, 64)                8256      \n",
      "_________________________________________________________________\n",
      "dense_1 (Dense)              (None, 2)                 130       \n",
      "=================================================================\n",
      "Total params: 3,150,786\n",
      "Trainable params: 3,150,786\n",
      "Non-trainable params: 0\n",
      "_________________________________________________________________\n",
      "Epoch 1/30\n",
      "393/393 [==============================] - 64s 71ms/step - loss: 0.5506 - accuracy: 0.6933 - val_loss: 0.3912 - val_accuracy: 0.8208\n",
      "\n",
      "Epoch 00001: val_loss improved from inf to 0.39117, saving model to weight.h5\n",
      "Epoch 2/30\n",
      "393/393 [==============================] - 23s 59ms/step - loss: 0.3508 - accuracy: 0.8462 - val_loss: 0.3634 - val_accuracy: 0.8366\n",
      "\n",
      "Epoch 00002: val_loss improved from 0.39117 to 0.36342, saving model to weight.h5\n",
      "Epoch 3/30\n",
      "393/393 [==============================] - 23s 58ms/step - loss: 0.3136 - accuracy: 0.8587 - val_loss: 0.3762 - val_accuracy: 0.8337\n",
      "\n",
      "Epoch 00003: val_loss did not improve from 0.36342\n",
      "Epoch 4/30\n",
      "393/393 [==============================] - 23s 58ms/step - loss: 0.2815 - accuracy: 0.8750 - val_loss: 0.3706 - val_accuracy: 0.8315\n",
      "\n",
      "Epoch 00004: val_loss did not improve from 0.36342\n",
      "Epoch 5/30\n",
      "393/393 [==============================] - 23s 58ms/step - loss: 0.2597 - accuracy: 0.8871 - val_loss: 0.3810 - val_accuracy: 0.8416\n",
      "\n",
      "Epoch 00005: val_loss did not improve from 0.36342\n",
      "Epoch 6/30\n",
      "393/393 [==============================] - 23s 58ms/step - loss: 0.2409 - accuracy: 0.8983 - val_loss: 0.3772 - val_accuracy: 0.8416\n",
      "\n",
      "Epoch 00006: val_loss did not improve from 0.36342\n",
      "Epoch 7/30\n",
      "393/393 [==============================] - 22s 57ms/step - loss: 0.2175 - accuracy: 0.9063 - val_loss: 0.3828 - val_accuracy: 0.8416\n",
      "\n",
      "Epoch 00007: val_loss did not improve from 0.36342\n",
      "Epoch 8/30\n",
      "393/393 [==============================] - 23s 58ms/step - loss: 0.2047 - accuracy: 0.9081 - val_loss: 0.3956 - val_accuracy: 0.8509\n",
      "\n",
      "Epoch 00008: val_loss did not improve from 0.36342\n",
      "Epoch 9/30\n",
      "393/393 [==============================] - 23s 58ms/step - loss: 0.1798 - accuracy: 0.9221 - val_loss: 0.4135 - val_accuracy: 0.8595\n",
      "\n",
      "Epoch 00009: val_loss did not improve from 0.36342\n",
      "Epoch 10/30\n",
      "393/393 [==============================] - 23s 57ms/step - loss: 0.1614 - accuracy: 0.9328 - val_loss: 0.3767 - val_accuracy: 0.8588\n",
      "\n",
      "Epoch 00010: val_loss did not improve from 0.36342\n",
      "Epoch 11/30\n",
      "393/393 [==============================] - 22s 57ms/step - loss: 0.1622 - accuracy: 0.9313 - val_loss: 0.4179 - val_accuracy: 0.8573\n",
      "\n",
      "Epoch 00011: val_loss did not improve from 0.36342\n",
      "Epoch 12/30\n",
      "393/393 [==============================] - 23s 58ms/step - loss: 0.1390 - accuracy: 0.9404 - val_loss: 0.4177 - val_accuracy: 0.8667\n",
      "\n",
      "Epoch 00012: val_loss did not improve from 0.36342\n",
      "Epoch 13/30\n",
      "393/393 [==============================] - 22s 56ms/step - loss: 0.1324 - accuracy: 0.9438 - val_loss: 0.4116 - val_accuracy: 0.8710\n",
      "\n",
      "Epoch 00013: val_loss did not improve from 0.36342\n",
      "Epoch 14/30\n",
      "393/393 [==============================] - 23s 57ms/step - loss: 0.1223 - accuracy: 0.9483 - val_loss: 0.4500 - val_accuracy: 0.8710\n",
      "\n",
      "Epoch 00014: val_loss did not improve from 0.36342\n",
      "Epoch 15/30\n",
      "393/393 [==============================] - 23s 58ms/step - loss: 0.1102 - accuracy: 0.9515 - val_loss: 0.4220 - val_accuracy: 0.8760\n",
      "\n",
      "Epoch 00015: val_loss did not improve from 0.36342\n",
      "Epoch 16/30\n",
      "393/393 [==============================] - 23s 57ms/step - loss: 0.1020 - accuracy: 0.9597 - val_loss: 0.5078 - val_accuracy: 0.8645\n",
      "\n",
      "Epoch 00016: val_loss did not improve from 0.36342\n",
      "Epoch 17/30\n",
      "393/393 [==============================] - 22s 57ms/step - loss: 0.0945 - accuracy: 0.9610 - val_loss: 0.5372 - val_accuracy: 0.8746\n",
      "\n",
      "Epoch 00017: val_loss did not improve from 0.36342\n",
      "Epoch 18/30\n",
      "393/393 [==============================] - 23s 58ms/step - loss: 0.0988 - accuracy: 0.9610 - val_loss: 0.5268 - val_accuracy: 0.8753\n",
      "\n",
      "Epoch 00018: val_loss did not improve from 0.36342\n",
      "Epoch 19/30\n",
      "393/393 [==============================] - 23s 57ms/step - loss: 0.0978 - accuracy: 0.9617 - val_loss: 0.5435 - val_accuracy: 0.8738\n",
      "\n",
      "Epoch 00019: val_loss did not improve from 0.36342\n",
      "Epoch 20/30\n",
      "393/393 [==============================] - 23s 58ms/step - loss: 0.0936 - accuracy: 0.9605 - val_loss: 0.5194 - val_accuracy: 0.8695\n",
      "\n",
      "Epoch 00020: val_loss did not improve from 0.36342\n",
      "Epoch 21/30\n",
      "393/393 [==============================] - 22s 57ms/step - loss: 0.0822 - accuracy: 0.9657 - val_loss: 0.4937 - val_accuracy: 0.8667\n",
      "\n",
      "Epoch 00021: val_loss did not improve from 0.36342\n",
      "Epoch 22/30\n",
      "393/393 [==============================] - 23s 57ms/step - loss: 0.0799 - accuracy: 0.9661 - val_loss: 0.5437 - val_accuracy: 0.8738\n",
      "\n",
      "Epoch 00022: val_loss did not improve from 0.36342\n",
      "Epoch 23/30\n",
      "393/393 [==============================] - 22s 57ms/step - loss: 0.0826 - accuracy: 0.9677 - val_loss: 0.6276 - val_accuracy: 0.8724\n",
      "\n",
      "Epoch 00023: val_loss did not improve from 0.36342\n",
      "Epoch 24/30\n",
      "393/393 [==============================] - 22s 57ms/step - loss: 0.0765 - accuracy: 0.9681 - val_loss: 0.6080 - val_accuracy: 0.8753\n",
      "\n",
      "Epoch 00024: val_loss did not improve from 0.36342\n",
      "Epoch 25/30\n",
      "393/393 [==============================] - 22s 57ms/step - loss: 0.0766 - accuracy: 0.9676 - val_loss: 0.6003 - val_accuracy: 0.8731\n",
      "\n",
      "Epoch 00025: val_loss did not improve from 0.36342\n",
      "Epoch 26/30\n",
      "393/393 [==============================] - 22s 57ms/step - loss: 0.0748 - accuracy: 0.9692 - val_loss: 0.5774 - val_accuracy: 0.8710\n",
      "\n",
      "Epoch 00026: val_loss did not improve from 0.36342\n",
      "Epoch 27/30\n",
      "393/393 [==============================] - 22s 56ms/step - loss: 0.0727 - accuracy: 0.9686 - val_loss: 0.6126 - val_accuracy: 0.8738\n",
      "\n",
      "Epoch 00027: val_loss did not improve from 0.36342\n",
      "Epoch 28/30\n",
      "393/393 [==============================] - 23s 57ms/step - loss: 0.0720 - accuracy: 0.9694 - val_loss: 0.6428 - val_accuracy: 0.8710\n",
      "\n",
      "Epoch 00028: val_loss did not improve from 0.36342\n",
      "Epoch 29/30\n",
      "393/393 [==============================] - 22s 57ms/step - loss: 0.0624 - accuracy: 0.9743 - val_loss: 0.6462 - val_accuracy: 0.8688\n",
      "\n",
      "Epoch 00029: val_loss did not improve from 0.36342\n",
      "Epoch 30/30\n",
      "393/393 [==============================] - 22s 57ms/step - loss: 0.0659 - accuracy: 0.9715 - val_loss: 0.6725 - val_accuracy: 0.8774\n",
      "\n",
      "Epoch 00030: val_loss did not improve from 0.36342\n"
     ]
    }
   ],
   "source": [
    "model = Sequential()\n",
    "model.add(layers.Embedding(vocab_size + 1, 256, input_length=35))\n",
    "model.add(layers.LSTM(128 ,dropout=0.5, unroll=True))\n",
    "model.add(layers.Dense(64, activation='relu'))\n",
    "model.add(layers.Dense(2, activation='softmax'))\n",
    "model.summary()\n",
    "\n",
    "model.compile(optimizer='adam',loss='categorical_crossentropy', metrics=['accuracy'])\n",
    "\n",
    "checkpoint = ModelCheckpoint(\"weight.h5\", monitor='val_loss', verbose=1, save_best_only=True, mode='min', save_weights_only=False)\n",
    "history = model.fit(X_train, y_train, batch_size=32, epochs=30, validation_split=0.1,callbacks=[checkpoint])"
   ]
  },
  {
   "cell_type": "code",
   "execution_count": 66,
   "metadata": {
    "colab": {
     "base_uri": "https://localhost:8080/",
     "height": 625
    },
    "id": "tRYqyVFd94Po",
    "outputId": "0705f21d-c850-48d0-f9ae-1b50d62b9d12"
   },
   "outputs": [
    {
     "data": {
      "image/png": "[encoded data removed]",
      "text/plain": [
       "<Figure size 720x360 with 1 Axes>"
      ]
     },
     "metadata": {
      "needs_background": "light",
      "tags": []
     },
     "output_type": "display_data"
    },
    {
     "data": {
      "image/png": "[encoded data removed]",
      "text/plain": [
       "<Figure size 720x360 with 1 Axes>"
      ]
     },
     "metadata": {
      "needs_background": "light",
      "tags": []
     },
     "output_type": "display_data"
    }
   ],
   "source": [
    "plt.figure(figsize=(10, 5))\n",
    "plt.plot(history.history['loss'], '-o')\n",
    "plt.plot(history.history['val_loss'], '-o')\n",
    "plt.legend(['train', 'validation'])\n",
    "plt.show()\n",
    "\n",
    "plt.figure(figsize=(10, 5))\n",
    "plt.plot(history.history['accuracy'], '-o')\n",
    "plt.plot(history.history['val_accuracy'], '-o')\n",
    "plt.legend(['train', 'validation'])\n",
    "plt.show()"
   ]
  },
  {
   "cell_type": "code",
   "execution_count": 67,
   "metadata": {
    "colab": {
     "base_uri": "https://localhost:8080/"
    },
    "id": "kxooUo3f9UgS",
    "outputId": "5835daff-c42b-494e-f40b-9559ad0d97b7"
   },
   "outputs": [
    {
     "name": "stdout",
     "output_type": "stream",
     "text": [
      "WARNING:tensorflow:Layer lstm_1 will not use cuDNN kernels since it doesn't meet the criteria. It will use a generic GPU kernel as fallback when running on GPU.\n"
     ]
    }
   ],
   "source": [
    "model_test = Sequential()\n",
    "model_test.add(layers.Embedding(vocab_size + 1, 256, input_length=35))\n",
    "model_test.add(layers.LSTM(128 ,dropout=0.5, unroll=True))\n",
    "model_test.add(layers.Dense(64, activation='relu'))\n",
    "model_test.add(layers.Dense(2, activation='softmax'))\n",
    "model_test.load_weights(\"weight.h5\")"
   ]
  },
  {
   "cell_type": "code",
   "execution_count": 68,
   "metadata": {
    "colab": {
     "base_uri": "https://localhost:8080/",
     "height": 445
    },
    "id": "_t7y-PFjqzgx",
    "outputId": "f2add295-5897-43fa-93e2-ea9c309eded3"
   },
   "outputs": [
    {
     "data": {
      "text/plain": [
       "[]"
      ]
     },
     "execution_count": 68,
     "metadata": {
      "tags": []
     },
     "output_type": "execute_result"
    },
    {
     "data": {
      "image/png": "[encoded data removed]",
      "text/plain": [
       "<Figure size 720x504 with 2 Axes>"
      ]
     },
     "metadata": {
      "needs_background": "light",
      "tags": []
     },
     "output_type": "display_data"
    }
   ],
   "source": [
    "best = False\n",
    "data = len(y_test) - 2\n",
    "pred = None\n",
    "if best:\n",
    "  pred = model_test.predict(X_test)\n",
    "else:\n",
    "  pred = model.predict(X_test)\n",
    "y_pred = np.argmax(pred, axis=1)\n",
    "y_true = np.argmax(y_test, axis=1)\n",
    "cm = confusion_matrix(y_true, y_pred)\n",
    "df_cm = pd.DataFrame(cm, index = ['Negetive', 'Positive'],\n",
    "                  columns = ['Negetive', 'Positive'])\n",
    "plt.figure(figsize = (10,7))\n",
    "sn.heatmap(df_cm, annot=True, fmt='g', cmap=\"Blues\")\n",
    "plt.plot()"
   ]
  },
  {
   "cell_type": "code",
   "execution_count": 69,
   "metadata": {
    "colab": {
     "base_uri": "https://localhost:8080/"
    },
    "id": "z4fjQmif3wne",
    "outputId": "a95d1ad0-9a3f-4271-cb57-be017899c8f3"
   },
   "outputs": [
    {
     "name": "stdout",
     "output_type": "stream",
     "text": [
      "              precision    recall  f1-score   support\n",
      "\n",
      "    Negetive       0.87      0.84      0.85      1695\n",
      "    Positive       0.85      0.88      0.87      1793\n",
      "\n",
      "    accuracy                           0.86      3488\n",
      "   macro avg       0.86      0.86      0.86      3488\n",
      "weighted avg       0.86      0.86      0.86      3488\n",
      "\n"
     ]
    }
   ],
   "source": [
    "from sklearn.metrics import classification_report\n",
    "print(classification_report(y_true, y_pred, target_names= ['Negetive', 'Positive']))"
   ]
  }
 ],
 "metadata": {
  "accelerator": "GPU",
  "colab": {
   "collapsed_sections": [
    "nSrhipKITfNf"
   ],
   "name": "NNDL_Project2_Problem3.ipynb",
   "provenance": []
  },
  "kernelspec": {
   "display_name": "Python 3",
   "language": "python",
   "name": "python3"
  },
  "language_info": {
   "codemirror_mode": {
    "name": "ipython",
    "version": 3
   },
   "file_extension": ".py",
   "mimetype": "text/x-python",
   "name": "python",
   "nbconvert_exporter": "python",
   "pygments_lexer": "ipython3",
   "version": "3.9.5"
  }
 },
 "nbformat": 4,
 "nbformat_minor": 1
}
